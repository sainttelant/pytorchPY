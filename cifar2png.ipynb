{
 "cells": [
  {
   "cell_type": "code",
   "execution_count": 1,
   "metadata": {},
   "outputs": [
    {
     "name": "stdout",
     "output_type": "stream",
     "text": [
      "test_batch is loading...\n",
      "test_batch loaded.\n"
     ]
    }
   ],
   "source": [
    "# coding:utf-8\n",
    "\"\"\"\n",
    "    将cifar10的data_batch_12345 转换成 png格式的图片\n",
    "    每个类别单独存放在一个文件夹，文件夹名称为0-9\n",
    "\"\"\"\n",
    "#from scipy.misc import imsave\n",
    "\"\"\"\n",
    "    scipy版本大于1.3以后不能使用 imsave，解决方案为使用imageio替代\n",
    "\"\"\"\n",
    "import imageio \n",
    "import numpy as np\n",
    "import os\n",
    "import pickle\n",
    "\n",
    "data_dir = 'Data/cifar-10-python/cifar-10-batches-py/'\n",
    "\n",
    "train_o_dir = 'Data/cifar-10-png/raw_train/'\n",
    "test_o_dir = 'Data/cifar-10-png/raw_test/'\n",
    "\n",
    "Train = False   # 不解压训练集，仅解压测试集\n",
    "\n",
    "# 解压缩，返回解压后的字典\n",
    "def unpickle(file):\n",
    "    fo = open(file, 'rb')\n",
    "    dict_ = pickle.load(fo, encoding='bytes')\n",
    "    fo.close()\n",
    "    return dict_\n",
    "\n",
    "def my_mkdir(my_dir):\n",
    "    if not os.path.isdir(my_dir):\n",
    "        os.makedirs(my_dir)\n",
    "\n",
    "\n",
    "# 生成训练集图片，\n",
    "if __name__ == '__main__':\n",
    "    if Train:\n",
    "        for j in range(1, 6):\n",
    "            data_path = data_dir + \"data_batch_\" + str(j)  # data_batch_12345\n",
    "            train_data = unpickle(data_path)\n",
    "            print(data_path + \" is loading...\")\n",
    "\n",
    "            for i in range(0, 10000):\n",
    "                img = np.reshape(train_data[b'data'][i], (3, 32, 32))\n",
    "                img = img.transpose(1, 2, 0)\n",
    "                label_num = str(train_data[b'labels'][i])\n",
    "                o_dir = os.path.join(train_o_dir, label_num)\n",
    "                my_mkdir(o_dir)\n",
    "                img_name = label_num + '_' + str(i + (j - 1)*10000) + '.png'\n",
    "                img_path = os.path.join(o_dir, img_name)\n",
    "                imageio.imwrite(img_path,img)\n",
    "            print(data_path + \" loaded.\")\n",
    "\n",
    "    print(\"test_batch is loading...\")\n",
    "\n",
    "    # 生成测试集图片\n",
    "    test_data_path = data_dir + \"test_batch\"\n",
    "    test_data = unpickle(test_data_path)\n",
    "    for i in range(0, 10000):\n",
    "        img = np.reshape(test_data[b'data'][i], (3, 32, 32))\n",
    "        img = img.transpose(1, 2, 0)\n",
    "        label_num = str(test_data[b'labels'][i])\n",
    "        o_dir = os.path.join(test_o_dir, label_num)\n",
    "        my_mkdir(o_dir)\n",
    "\n",
    "        img_name = label_num + '_' + str(i) + '.png'\n",
    "        img_path = os.path.join(o_dir, img_name)\n",
    "        imageio.imwrite(img_path,img)\n",
    "\n",
    "    print(\"test_batch loaded.\")\n"
   ]
  },
  {
   "cell_type": "code",
   "execution_count": null,
   "metadata": {},
   "outputs": [],
   "source": [
    "help(np.transpose)"
   ]
  },
  {
   "cell_type": "code",
   "execution_count": null,
   "metadata": {},
   "outputs": [],
   "source": []
  }
 ],
 "metadata": {
  "kernelspec": {
   "display_name": "Python 3",
   "language": "python",
   "name": "python3"
  },
  "language_info": {
   "codemirror_mode": {
    "name": "ipython",
    "version": 3
   },
   "file_extension": ".py",
   "mimetype": "text/x-python",
   "name": "python",
   "nbconvert_exporter": "python",
   "pygments_lexer": "ipython3",
   "version": "3.7.6"
  }
 },
 "nbformat": 4,
 "nbformat_minor": 4
}
