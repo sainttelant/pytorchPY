{
 "cells": [
  {
   "cell_type": "code",
   "execution_count": 1,
   "metadata": {},
   "outputs": [
    {
     "name": "stdout",
     "output_type": "stream",
     "text": [
      "Class:0, train:800, valid:100, test:100\n",
      "Class:1, train:800, valid:100, test:100\n",
      "Class:2, train:800, valid:100, test:100\n",
      "Class:3, train:800, valid:100, test:100\n",
      "Class:4, train:800, valid:100, test:100\n",
      "Class:5, train:800, valid:100, test:100\n",
      "Class:6, train:800, valid:100, test:100\n",
      "Class:7, train:800, valid:100, test:100\n",
      "Class:8, train:800, valid:100, test:100\n",
      "Class:9, train:800, valid:100, test:100\n"
     ]
    }
   ],
   "source": [
    "# coding: utf-8\n",
    "\"\"\"\n",
    "    将原始数据集进行划分成训练集、验证集和测试集\n",
    "\"\"\"\n",
    "\n",
    "import os\n",
    "import glob\n",
    "import random\n",
    "import shutil\n",
    "\n",
    "dataset_dir = 'Data/cifar-10-png/raw_test/'\n",
    "train_dir = 'Data/train/'\n",
    "valid_dir = 'Data/valid/'\n",
    "test_dir = 'Data/test/'\n",
    "\n",
    "train_per = 0.8\n",
    "valid_per = 0.1\n",
    "test_per = 0.1\n",
    "\n",
    "\n",
    "def makedir(new_dir):\n",
    "    if not os.path.exists(new_dir):\n",
    "        os.makedirs(new_dir)\n",
    "\n",
    "\n",
    "if __name__ == '__main__':\n",
    "\n",
    "    for root, dirs, files in os.walk(dataset_dir):\n",
    "        for sDir in dirs:\n",
    "            imgs_list = glob.glob(os.path.join(root, sDir)+'/*.png')\n",
    "            random.seed(666)\n",
    "            random.shuffle(imgs_list)\n",
    "            imgs_num = len(imgs_list)\n",
    "\n",
    "            train_point = int(imgs_num * train_per)\n",
    "            valid_point = int(imgs_num * (train_per + valid_per))\n",
    "\n",
    "            for i in range(imgs_num):\n",
    "                if i < train_point:\n",
    "                    out_dir = train_dir + sDir + '/'\n",
    "                elif i < valid_point:\n",
    "                    out_dir = valid_dir + sDir + '/'\n",
    "                else:\n",
    "                    out_dir = test_dir + sDir + '/'\n",
    "\n",
    "                makedir(out_dir)\n",
    "                out_path = out_dir + os.path.split(imgs_list[i])[-1]\n",
    "                shutil.copy(imgs_list[i], out_path)\n",
    "\n",
    "            print('Class:{}, train:{}, valid:{}, test:{}'.format(sDir, train_point, valid_point-train_point, imgs_num-valid_point))\n"
   ]
  },
  {
   "cell_type": "code",
   "execution_count": 4,
   "metadata": {},
   "outputs": [
    {
     "name": "stdout",
     "output_type": "stream",
     "text": [
      "Help on method seed in module random:\n",
      "\n",
      "seed(a=None, version=2) method of random.Random instance\n",
      "    Initialize internal state from hashable object.\n",
      "    \n",
      "    None or no argument seeds from current time or from an operating\n",
      "    system specific randomness source if available.\n",
      "    \n",
      "    If *a* is an int, all bits are used.\n",
      "    \n",
      "    For version 2 (the default), all of the bits are used if *a* is a str,\n",
      "    bytes, or bytearray.  For version 1 (provided for reproducing random\n",
      "    sequences from older versions of Python), the algorithm for str and\n",
      "    bytes generates a narrower range of seeds.\n",
      "\n"
     ]
    }
   ],
   "source": [
    "help(random.seed)"
   ]
  },
  {
   "cell_type": "code",
   "execution_count": null,
   "metadata": {},
   "outputs": [],
   "source": []
  }
 ],
 "metadata": {
  "kernelspec": {
   "display_name": "Python 3",
   "language": "python",
   "name": "python3"
  },
  "language_info": {
   "codemirror_mode": {
    "name": "ipython",
    "version": 3
   },
   "file_extension": ".py",
   "mimetype": "text/x-python",
   "name": "python",
   "nbconvert_exporter": "python",
   "pygments_lexer": "ipython3",
   "version": "3.7.6"
  }
 },
 "nbformat": 4,
 "nbformat_minor": 4
}
