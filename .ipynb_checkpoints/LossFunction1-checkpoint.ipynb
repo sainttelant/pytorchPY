{
 "cells": [
  {
   "cell_type": "code",
   "execution_count": 1,
   "metadata": {},
   "outputs": [
    {
     "name": "stdout",
     "output_type": "stream",
     "text": [
      "\n",
      "reduce=False, 输出同维度的loss:\n",
      "tensor([[0.5000, 0.5000],\n",
      "        [0.5000, 0.5000]], grad_fn=<L1LossBackward>)\n",
      "\n",
      "size_average=True，\t求平均:\t0.5\n",
      "size_average=False，\t求和:\t2.0\n"
     ]
    },
    {
     "name": "stderr",
     "output_type": "stream",
     "text": [
      "C:\\Users\\XUEWEI\\anaconda3\\lib\\site-packages\\torch\\nn\\_reduction.py:43: UserWarning: size_average and reduce args will be deprecated, please use reduction='none' instead.\n",
      "  warnings.warn(warning.format(ret))\n",
      "C:\\Users\\XUEWEI\\anaconda3\\lib\\site-packages\\torch\\nn\\_reduction.py:43: UserWarning: size_average and reduce args will be deprecated, please use reduction='mean' instead.\n",
      "  warnings.warn(warning.format(ret))\n",
      "C:\\Users\\XUEWEI\\anaconda3\\lib\\site-packages\\torch\\nn\\_reduction.py:43: UserWarning: size_average and reduce args will be deprecated, please use reduction='sum' instead.\n",
      "  warnings.warn(warning.format(ret))\n"
     ]
    }
   ],
   "source": [
    "# coding: utf-8\n",
    "\n",
    "import torch\n",
    "import torch.nn as nn\n",
    "\n",
    "# ----------------------------------- L1 Loss\n",
    "\n",
    "# 生成网络输出 以及 目标输出\n",
    "output = torch.ones(2, 2, requires_grad=True)*0.5\n",
    "target = torch.ones(2, 2)\n",
    "\n",
    "# 设置三种不同参数的L1Loss\n",
    "reduce_False = nn.L1Loss(size_average=True, reduce=False)\n",
    "size_average_True = nn.L1Loss(size_average=True, reduce=True)\n",
    "size_average_False = nn.L1Loss(size_average=False, reduce=True)\n",
    "\n",
    "o_0 = reduce_False(output, target)\n",
    "o_1 = size_average_True(output, target)\n",
    "o_2 = size_average_False(output, target)\n",
    "\n",
    "print('\\nreduce=False, 输出同维度的loss:\\n{}\\n'.format(o_0))\n",
    "print('size_average=True，\\t求平均:\\t{}'.format(o_1))\n",
    "print('size_average=False，\\t求和:\\t{}'.format(o_2))\n"
   ]
  },
  {
   "cell_type": "code",
   "execution_count": null,
   "metadata": {},
   "outputs": [],
   "source": []
  }
 ],
 "metadata": {
  "kernelspec": {
   "display_name": "Python 3",
   "language": "python",
   "name": "python3"
  },
  "language_info": {
   "codemirror_mode": {
    "name": "ipython",
    "version": 3
   },
   "file_extension": ".py",
   "mimetype": "text/x-python",
   "name": "python",
   "nbconvert_exporter": "python",
   "pygments_lexer": "ipython3",
   "version": "3.7.6"
  }
 },
 "nbformat": 4,
 "nbformat_minor": 4
}
